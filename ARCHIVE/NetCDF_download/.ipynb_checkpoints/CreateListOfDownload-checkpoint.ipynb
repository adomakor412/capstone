{
 "cells": [
  {
   "cell_type": "code",
   "execution_count": 1,
   "metadata": {},
   "outputs": [],
   "source": [
    "import requests\n",
    "import re\n",
    "import os\n",
    "import os.path as op\n",
    "DATAPATH= '../G16_G17_url_list/fall_2018_list'"
   ]
  },
  {
   "cell_type": "code",
   "execution_count": 2,
   "metadata": {},
   "outputs": [],
   "source": [
    "def listurls(prefix,html):\n",
    "    from bs4 import BeautifulSoup\n",
    "    soup = BeautifulSoup(html.text)\n",
    "    urllist = [elt['href'] for elt in soup.find_all(href=re.compile(prefix))]\n",
    "    return urllist"
   ]
  },
  {
   "cell_type": "code",
   "execution_count": 3,
   "metadata": {},
   "outputs": [
    {
     "ename": "FileNotFoundError",
     "evalue": "[Errno 2] No such file or directory: '../G16_G17_url_list/fall_2018_list/G16_data_08_08-18.txt'",
     "output_type": "error",
     "traceback": [
      "\u001b[0;31m---------------------------------------------------------------------------\u001b[0m",
      "\u001b[0;31mFileNotFoundError\u001b[0m                         Traceback (most recent call last)",
      "\u001b[0;32m<ipython-input-3-f09f513599d8>\u001b[0m in \u001b[0;36m<module>\u001b[0;34m\u001b[0m\n\u001b[1;32m     12\u001b[0m                 \u001b[0mtemplate\u001b[0m \u001b[0;34m=\u001b[0m \u001b[0;34m'http://home.chpc.utah.edu/~u0553130/Brian_Blaylock/cgi-bin/goes17_download.cgi?source=aws&satellite=noaa-goes17&domain=F&product=ABI-L1b-Rad&date=20{yy}-{mm}-{dd}&hour={hr}'\u001b[0m\u001b[0;34m\u001b[0m\u001b[0;34m\u001b[0m\u001b[0m\n\u001b[1;32m     13\u001b[0m             \u001b[0mmm\u001b[0m \u001b[0;34m=\u001b[0m \u001b[0;34m'08'\u001b[0m\u001b[0;34m\u001b[0m\u001b[0;34m\u001b[0m\u001b[0m\n\u001b[0;32m---> 14\u001b[0;31m             \u001b[0;32mwith\u001b[0m \u001b[0mopen\u001b[0m\u001b[0;34m(\u001b[0m\u001b[0mfilename\u001b[0m\u001b[0;34m,\u001b[0m\u001b[0;34m'w'\u001b[0m\u001b[0;34m)\u001b[0m \u001b[0;32mas\u001b[0m \u001b[0mf\u001b[0m\u001b[0;34m:\u001b[0m\u001b[0;34m\u001b[0m\u001b[0;34m\u001b[0m\u001b[0m\n\u001b[0m\u001b[1;32m     15\u001b[0m                 \u001b[0;32mfor\u001b[0m \u001b[0mt\u001b[0m \u001b[0;32min\u001b[0m \u001b[0mrange\u001b[0m\u001b[0;34m(\u001b[0m\u001b[0;36m24\u001b[0m\u001b[0;34m)\u001b[0m\u001b[0;34m:\u001b[0m\u001b[0;31m#this is for the hour\u001b[0m\u001b[0;34m\u001b[0m\u001b[0;34m\u001b[0m\u001b[0m\n\u001b[1;32m     16\u001b[0m                     \u001b[0mhr\u001b[0m \u001b[0;34m=\u001b[0m \u001b[0mstr\u001b[0m\u001b[0;34m(\u001b[0m\u001b[0mt\u001b[0m\u001b[0;34m)\u001b[0m\u001b[0;34m.\u001b[0m\u001b[0mzfill\u001b[0m\u001b[0;34m(\u001b[0m\u001b[0;36m2\u001b[0m\u001b[0;34m)\u001b[0m\u001b[0;34m\u001b[0m\u001b[0;34m\u001b[0m\u001b[0m\n",
      "\u001b[0;31mFileNotFoundError\u001b[0m: [Errno 2] No such file or directory: '../G16_G17_url_list/fall_2018_list/G16_data_08_08-18.txt'"
     ]
    }
   ],
   "source": [
    "for yy in range(18,19):\n",
    "    for s in range(16,18):\n",
    "        SS = str(s).zfill(2)\n",
    "        for i in range(8,32):#the website for particular day    \n",
    "            dd = str(i).zfill(2) #all in the same month\n",
    "            filename = f'G{SS}_data_08_{dd}-{yy}.txt'\n",
    "            filename.format(**{'SS':SS,'dd':dd,'yy':yy})\n",
    "            filename = os.path.join(DATAPATH,filename)\n",
    "            if SS == '16':\n",
    "                template = 'http://home.chpc.utah.edu/~u0553130/Brian_Blaylock/cgi-bin/goes16_download.cgi?source=aws&satellite=noaa-goes16&domain=F&product=ABI-L1b-Rad&date=20{yy}-{mm}-{dd}&hour={hr}'\n",
    "            else:\n",
    "                template = 'http://home.chpc.utah.edu/~u0553130/Brian_Blaylock/cgi-bin/goes17_download.cgi?source=aws&satellite=noaa-goes17&domain=F&product=ABI-L1b-Rad&date=20{yy}-{mm}-{dd}&hour={hr}'\n",
    "            mm = '08'\n",
    "            with open(filename,'w') as f:\n",
    "                for t in range(24):#this is for the hour\n",
    "                    hr = str(t).zfill(2)\n",
    "                    mystr = template.format(**{'mm':mm, 'dd':dd, 'hr':hr, 'yy':yy})\n",
    "                    req = requests.get(mystr)\n",
    "\n",
    "                    for band in range(7,11):\n",
    "                        if yy == 18:\n",
    "                            product = '3'\n",
    "                        else:\n",
    "                            product = '6'\n",
    "                        prefix = f\"OR_ABI-L1b-RadF-M{product}C\" + str(band).zfill(2)\n",
    "                        prefix.format(**{'product':product})\n",
    "                        bandURLList = listurls(prefix,req)\n",
    "                        print(*bandURLList,sep='\\n', file=f)\n",
    "\n",
    "            "
   ]
  },
  {
   "cell_type": "code",
   "execution_count": null,
   "metadata": {},
   "outputs": [],
   "source": []
  }
 ],
 "metadata": {
  "kernelspec": {
   "display_name": "Python 3",
   "language": "python",
   "name": "python3"
  },
  "language_info": {
   "codemirror_mode": {
    "name": "ipython",
    "version": 3
   },
   "file_extension": ".py",
   "mimetype": "text/x-python",
   "name": "python",
   "nbconvert_exporter": "python",
   "pygments_lexer": "ipython3",
   "version": "3.6.7"
  }
 },
 "nbformat": 4,
 "nbformat_minor": 2
}
