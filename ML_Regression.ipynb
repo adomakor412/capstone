{
 "cells": [
  {
   "cell_type": "code",
   "execution_count": 2,
   "metadata": {},
   "outputs": [
    {
     "name": "stderr",
     "output_type": "stream",
     "text": [
      "/scratch/adomakor412/conda/envs/MyEnv/lib/python3.6/site-packages/dask/config.py:131: YAMLLoadWarning: calling yaml.load() without Loader=... is deprecated, as the default Loader is unsafe. Please read https://msg.pyyaml.org/load for full details.\n",
      "  data = yaml.load(f.read()) or {}\n"
     ]
    }
   ],
   "source": [
    "import csv\n",
    "import pandas as pd\n",
    "import numpy as np\n",
    "import matplotlib.pyplot as plt\n",
    "import os\n",
    "from os import path as op\n",
    "import itertools\n",
    "import re\n",
    "import xarray as xr\n",
    "from sklearn.model_selection import train_test_split\n",
    "import numpy.random as nr\n",
    "\n",
    "%matplotlib inline"
   ]
  },
  {
   "cell_type": "code",
   "execution_count": 3,
   "metadata": {},
   "outputs": [],
   "source": [
    "nr.seed = 42"
   ]
  },
  {
   "cell_type": "code",
   "execution_count": 4,
   "metadata": {},
   "outputs": [],
   "source": [
    "inputPath = '/scratch/adomakor412/all_npy3'\n",
    "PATH = os.path.expanduser(inputPath)\n",
    "ncPath = os.path.expanduser('/scratch/adomakor412/april_data_2019')"
   ]
  },
  {
   "cell_type": "code",
   "execution_count": 5,
   "metadata": {},
   "outputs": [],
   "source": [
    "columns = [\n",
    "    \"time\",\n",
    "    \"longitude\",\n",
    "    \"latitude\",\n",
    "    #\"band\",#Necessary?\n",
    "    \"G17_Temp\",\n",
    "    \"G17_mean\",\n",
    "    \"G17_std\",#mean and std outside inner for loop for comp. eff.\n",
    "    \"target_G16_Temp\"\n",
    "]\n",
    "\n",
    "df = pd.DataFrame({},columns = columns)"
   ]
  },
  {
   "cell_type": "code",
   "execution_count": 6,
   "metadata": {},
   "outputs": [],
   "source": [
    "def longitude(lonMin, lonMax, col, colSize):\n",
    "    lon = (col/colSize)* (lonMax - lonMin)\n",
    "    return lon\n",
    "\n",
    "def latitude(latMin, latMax, row, rowSize):\n",
    "    lat = (row/rowSize)* (latMax - latMin)\n",
    "    return lat\n",
    "\n",
    "def Rad2BT(rad, planck_fk1, planck_fk2, planck_bc1, planck_bc2):\n",
    "    \"\"\"Radiances to Brightness Temprature (using black body equation)\"\"\"\n",
    "    invRad = np.array(rad)**(-1)\n",
    "    arg = (invRad*planck_fk1) + 1.0\n",
    "    T = (- planck_bc1+(planck_fk2 * (np.log(arg)**(-1))) )*(1/planck_bc2) \n",
    "    return T"
   ]
  },
  {
   "cell_type": "code",
   "execution_count": 7,
   "metadata": {},
   "outputs": [],
   "source": [
    "import logging\n",
    "logger = logging.getLogger()"
   ]
  },
  {
   "cell_type": "code",
   "execution_count": 126,
   "metadata": {},
   "outputs": [
    {
     "name": "stdout",
     "output_type": "stream",
     "text": [
      "OR_ABI-L1b-RadF-M6C08_G17_s20191030000339_e20191030009405_c20191030009441.nc\n"
     ]
    }
   ],
   "source": [
    "extent_pc = [-109.59326, -102.40674, 8.94659, -8.94656]\n",
    "\n",
    "dataFrames = []\n",
    "inds=nr.randint(10000, size=(1000))\n",
    "inds.sort()\n",
    "\n",
    "with open('logML', 'a') as log:\n",
    "    \n",
    "    for (bb,dd) in list(itertools.product([8],[5])):#Let's start with one day\n",
    "        DD = str(98+dd).zfill(3)\n",
    "        lookup = f'M6C08_G17_s2019{DD}0000'\n",
    "        ncFiles = [f for f in os.listdir(ncPath) if re.search(lookup,f)]\n",
    "        #ncFiles = mySort(ncFiles)\n",
    "        npFiles = [f for f in os.listdir( PATH ) if re.search(lookup,f)]\n",
    "        #ncFiles = mySort(ncFiles)\n",
    "\n",
    "        for ncf, npf in zip(ncFiles,npFiles):\n",
    "            try:\n",
    "                imageBox = np.load(op.join( PATH,npf))\n",
    "                myFile = xr.open_dataset(op.join(ncPath,ncf))\n",
    "                planck_fk1 = float(myFile['planck_fk1'].data)\n",
    "                planck_fk2 = float(myFile['planck_fk2'].data) \n",
    "                planck_bc1 = float(myFile['planck_bc1'].data)                       \n",
    "                planck_bc2 = float(myFile['planck_bc2'].data)\n",
    "\n",
    "                time = ncf[31:38]\n",
    "                G17_mean = Rad2BT(imageBox.mean(), planck_fk1, planck_fk2, planck_bc1, planck_bc2)\n",
    "                G17_std = Rad2BT(imageBox.std(), planck_fk1, planck_fk2, planck_bc1, planck_bc2)\n",
    "\n",
    "                hh = ncf[34:36]\n",
    "                mm = ncf[36:38]\n",
    "                \n",
    "                print(ncf)\n",
    "                print(str(ncf), file=log)\n",
    "                logger.info(str(ncf))\n",
    "\n",
    "                G16_npy = np.load( op.join(PATH, npf.replace('G16','G17',1)) )\n",
    "                G16_ncf = xr.open_dataset(op.join( ncPath, ncf.replace('G16','G17',1) ))\n",
    "                G16_fk1 = float(G16_ncf['planck_fk1'].data)\n",
    "                G16_fk2 = float(G16_ncf['planck_fk2'].data) \n",
    "                G16_bc1 = float(G16_ncf['planck_bc1'].data)                       \n",
    "                G16_bc2 = float(G16_ncf['planck_bc2'].data)\n",
    "\n",
    "                target_G16_Temp = Rad2BT(G16_npy, G16_fk1, G16_fk2, G16_bc1, G16_bc2)\n",
    "                x,y = imageBox.shape[0],imageBox.shape[1]\n",
    "                randInds = nr.randint(10000, size=(x*y))\n",
    "                \n",
    "                #select 10,000 random points out of 401,401\n",
    "                sample = np.array([combo for combo in itertools.product(range(x),range(y))])\n",
    "                for i,j in sample[inds]:\n",
    "                    lon = longitude( extent_pc[0], extent_pc[1], i, x )\n",
    "                    lat = latitude( extent_pc[2], extent_pc[3], j, y)\n",
    "\n",
    "                    G17_Temp = Rad2BT(imageBox[i,j], planck_fk1, planck_fk2, planck_bc1, planck_bc2)#unfiltered\n",
    "                    target_G16_Temp = Rad2BT( G16_npy[i,j], G16_fk1, G16_fk2, G16_bc1, G16_bc2 )\n",
    "                    \n",
    "                    row = [time, lon, lat, G17_Temp, G17_mean, G17_std, target_G16_Temp]\n",
    "\n",
    "                    dataFrames.append(pd.DataFrame([row],columns=columns))\n",
    "                    #concatenate a list of single dataframes after done with loop for speed \" pandas.concat\"\n",
    "                    #z score versus the standard deviation for single image, can normalize across all image\n",
    "                \n",
    "            except ValueError as e:\n",
    "                logger.exception(e)\n",
    "                print(e)\n",
    "                print(e, file=log)\n",
    "                continue\n",
    "                 \n",
    "    \n",
    "# df = pd.read_csv(\"http://archive.ics.uci.edu/ml/machine-learning-databases/adult/adult.data\", names=columns)\n",
    "# for column in df.columns:\n",
    "#     if df[column].dtype == \"object\":\n",
    "#         df[column] = df[column].str.strip()\n",
    "# df = df.dropna()"
   ]
  },
  {
   "cell_type": "code",
   "execution_count": 127,
   "metadata": {},
   "outputs": [],
   "source": [
    "df=pd.concat(dataFrames)"
   ]
  },
  {
   "cell_type": "code",
   "execution_count": 128,
   "metadata": {},
   "outputs": [],
   "source": [
    "from sklearn.neural_network import MLPRegressor\n",
    "#from sklearn.datasets import make_regression\n",
    "from sklearn.model_selection import train_test_split\n",
    "from sklearn.metrics import mean_squared_error"
   ]
  },
  {
   "cell_type": "code",
   "execution_count": 129,
   "metadata": {},
   "outputs": [
    {
     "name": "stdout",
     "output_type": "stream",
     "text": [
      "1000\n",
      "      time  longitude  latitude    G17_Temp    G17_mean     G17_std  \\\n",
      "0  1030000        0.0 -1.070912  242.713931  243.715676  202.188943   \n",
      "0  1030000        0.0 -1.294018  242.919616  243.715676  202.188943   \n",
      "0  1030000        0.0 -2.231066  242.506926  243.715676  202.188943   \n",
      "0  1030000        0.0 -2.275687  242.610594  243.715676  202.188943   \n",
      "0  1030000        0.0 -2.320309  242.506926  243.715676  202.188943   \n",
      "\n",
      "   target_G16_Temp  \n",
      "0       242.713931  \n",
      "0       242.919616  \n",
      "0       242.506926  \n",
      "0       242.610594  \n",
      "0       242.506926  \n"
     ]
    }
   ],
   "source": [
    "print(len(df))\n",
    "print(df.head())"
   ]
  },
  {
   "cell_type": "code",
   "execution_count": 130,
   "metadata": {},
   "outputs": [],
   "source": [
    "dfSample = df.dropna().sample(n=1000)\n",
    "X = dfSample.drop([\"target_G16_Temp\"],axis=1).astype('float')#try as float\n",
    "y = dfSample.drop(columns[:-1],axis=1).astype('float')"
   ]
  },
  {
   "cell_type": "code",
   "execution_count": 131,
   "metadata": {},
   "outputs": [
    {
     "data": {
      "text/html": [
       "<div>\n",
       "<style scoped>\n",
       "    .dataframe tbody tr th:only-of-type {\n",
       "        vertical-align: middle;\n",
       "    }\n",
       "\n",
       "    .dataframe tbody tr th {\n",
       "        vertical-align: top;\n",
       "    }\n",
       "\n",
       "    .dataframe thead th {\n",
       "        text-align: right;\n",
       "    }\n",
       "</style>\n",
       "<table border=\"1\" class=\"dataframe\">\n",
       "  <thead>\n",
       "    <tr style=\"text-align: right;\">\n",
       "      <th></th>\n",
       "      <th>time</th>\n",
       "      <th>longitude</th>\n",
       "      <th>latitude</th>\n",
       "      <th>G17_Temp</th>\n",
       "      <th>G17_mean</th>\n",
       "      <th>G17_std</th>\n",
       "    </tr>\n",
       "  </thead>\n",
       "  <tbody>\n",
       "    <tr>\n",
       "      <th>0</th>\n",
       "      <td>1030000.0</td>\n",
       "      <td>0.143587</td>\n",
       "      <td>-11.958514</td>\n",
       "      <td>244.373029</td>\n",
       "      <td>243.715676</td>\n",
       "      <td>202.188943</td>\n",
       "    </tr>\n",
       "    <tr>\n",
       "      <th>0</th>\n",
       "      <td>1030000.0</td>\n",
       "      <td>0.071793</td>\n",
       "      <td>-16.732996</td>\n",
       "      <td>244.859563</td>\n",
       "      <td>243.715676</td>\n",
       "      <td>202.188943</td>\n",
       "    </tr>\n",
       "    <tr>\n",
       "      <th>0</th>\n",
       "      <td>1030000.0</td>\n",
       "      <td>0.021538</td>\n",
       "      <td>-5.443801</td>\n",
       "      <td>243.174892</td>\n",
       "      <td>243.715676</td>\n",
       "      <td>202.188943</td>\n",
       "    </tr>\n",
       "    <tr>\n",
       "      <th>0</th>\n",
       "      <td>1030000.0</td>\n",
       "      <td>0.014359</td>\n",
       "      <td>-5.800772</td>\n",
       "      <td>243.123997</td>\n",
       "      <td>243.715676</td>\n",
       "      <td>202.188943</td>\n",
       "    </tr>\n",
       "    <tr>\n",
       "      <th>0</th>\n",
       "      <td>1030000.0</td>\n",
       "      <td>0.150766</td>\n",
       "      <td>-12.270863</td>\n",
       "      <td>244.373029</td>\n",
       "      <td>243.715676</td>\n",
       "      <td>202.188943</td>\n",
       "    </tr>\n",
       "  </tbody>\n",
       "</table>\n",
       "</div>"
      ],
      "text/plain": [
       "        time  longitude   latitude    G17_Temp    G17_mean     G17_std\n",
       "0  1030000.0   0.143587 -11.958514  244.373029  243.715676  202.188943\n",
       "0  1030000.0   0.071793 -16.732996  244.859563  243.715676  202.188943\n",
       "0  1030000.0   0.021538  -5.443801  243.174892  243.715676  202.188943\n",
       "0  1030000.0   0.014359  -5.800772  243.123997  243.715676  202.188943\n",
       "0  1030000.0   0.150766 -12.270863  244.373029  243.715676  202.188943"
      ]
     },
     "execution_count": 131,
     "metadata": {},
     "output_type": "execute_result"
    }
   ],
   "source": [
    "X.head()"
   ]
  },
  {
   "cell_type": "code",
   "execution_count": 132,
   "metadata": {},
   "outputs": [
    {
     "data": {
      "text/html": [
       "<div>\n",
       "<style scoped>\n",
       "    .dataframe tbody tr th:only-of-type {\n",
       "        vertical-align: middle;\n",
       "    }\n",
       "\n",
       "    .dataframe tbody tr th {\n",
       "        vertical-align: top;\n",
       "    }\n",
       "\n",
       "    .dataframe thead th {\n",
       "        text-align: right;\n",
       "    }\n",
       "</style>\n",
       "<table border=\"1\" class=\"dataframe\">\n",
       "  <thead>\n",
       "    <tr style=\"text-align: right;\">\n",
       "      <th></th>\n",
       "      <th>target_G16_Temp</th>\n",
       "    </tr>\n",
       "  </thead>\n",
       "  <tbody>\n",
       "    <tr>\n",
       "      <th>0</th>\n",
       "      <td>244.373029</td>\n",
       "    </tr>\n",
       "    <tr>\n",
       "      <th>0</th>\n",
       "      <td>244.859563</td>\n",
       "    </tr>\n",
       "    <tr>\n",
       "      <th>0</th>\n",
       "      <td>243.174892</td>\n",
       "    </tr>\n",
       "    <tr>\n",
       "      <th>0</th>\n",
       "      <td>243.123997</td>\n",
       "    </tr>\n",
       "    <tr>\n",
       "      <th>0</th>\n",
       "      <td>244.373029</td>\n",
       "    </tr>\n",
       "  </tbody>\n",
       "</table>\n",
       "</div>"
      ],
      "text/plain": [
       "   target_G16_Temp\n",
       "0       244.373029\n",
       "0       244.859563\n",
       "0       243.174892\n",
       "0       243.123997\n",
       "0       244.373029"
      ]
     },
     "execution_count": 132,
     "metadata": {},
     "output_type": "execute_result"
    }
   ],
   "source": [
    "y.head()"
   ]
  },
  {
   "cell_type": "code",
   "execution_count": 133,
   "metadata": {},
   "outputs": [],
   "source": [
    "from sklearn.metrics import mean_squared_error\n",
    "X_train, X_test, y_train, y_test = train_test_split(X, np.ravel(y),random_state=1,test_size=0.1)\n",
    "regr = MLPRegressor(random_state=1, max_iter=500).fit(X_train, y_train)"
   ]
  },
  {
   "cell_type": "code",
   "execution_count": 134,
   "metadata": {},
   "outputs": [
    {
     "data": {
      "text/html": [
       "<div>\n",
       "<style scoped>\n",
       "    .dataframe tbody tr th:only-of-type {\n",
       "        vertical-align: middle;\n",
       "    }\n",
       "\n",
       "    .dataframe tbody tr th {\n",
       "        vertical-align: top;\n",
       "    }\n",
       "\n",
       "    .dataframe thead th {\n",
       "        text-align: right;\n",
       "    }\n",
       "</style>\n",
       "<table border=\"1\" class=\"dataframe\">\n",
       "  <thead>\n",
       "    <tr style=\"text-align: right;\">\n",
       "      <th></th>\n",
       "      <th>time</th>\n",
       "      <th>longitude</th>\n",
       "      <th>latitude</th>\n",
       "      <th>G17_Temp</th>\n",
       "      <th>G17_mean</th>\n",
       "      <th>G17_std</th>\n",
       "    </tr>\n",
       "  </thead>\n",
       "  <tbody>\n",
       "    <tr>\n",
       "      <th>0</th>\n",
       "      <td>1030000.0</td>\n",
       "      <td>0.014359</td>\n",
       "      <td>-1.472504</td>\n",
       "      <td>242.506926</td>\n",
       "      <td>243.715676</td>\n",
       "      <td>202.188943</td>\n",
       "    </tr>\n",
       "    <tr>\n",
       "      <th>0</th>\n",
       "      <td>1030000.0</td>\n",
       "      <td>0.043076</td>\n",
       "      <td>-14.680415</td>\n",
       "      <td>244.956011</td>\n",
       "      <td>243.715676</td>\n",
       "      <td>202.188943</td>\n",
       "    </tr>\n",
       "    <tr>\n",
       "      <th>0</th>\n",
       "      <td>1030000.0</td>\n",
       "      <td>0.007179</td>\n",
       "      <td>-1.963338</td>\n",
       "      <td>242.558805</td>\n",
       "      <td>243.715676</td>\n",
       "      <td>202.188943</td>\n",
       "    </tr>\n",
       "    <tr>\n",
       "      <th>0</th>\n",
       "      <td>1030000.0</td>\n",
       "      <td>0.050255</td>\n",
       "      <td>-10.396768</td>\n",
       "      <td>244.028100</td>\n",
       "      <td>243.715676</td>\n",
       "      <td>202.188943</td>\n",
       "    </tr>\n",
       "    <tr>\n",
       "      <th>0</th>\n",
       "      <td>1030000.0</td>\n",
       "      <td>0.086152</td>\n",
       "      <td>-11.958514</td>\n",
       "      <td>244.470914</td>\n",
       "      <td>243.715676</td>\n",
       "      <td>202.188943</td>\n",
       "    </tr>\n",
       "  </tbody>\n",
       "</table>\n",
       "</div>"
      ],
      "text/plain": [
       "        time  longitude   latitude    G17_Temp    G17_mean     G17_std\n",
       "0  1030000.0   0.014359  -1.472504  242.506926  243.715676  202.188943\n",
       "0  1030000.0   0.043076 -14.680415  244.956011  243.715676  202.188943\n",
       "0  1030000.0   0.007179  -1.963338  242.558805  243.715676  202.188943\n",
       "0  1030000.0   0.050255 -10.396768  244.028100  243.715676  202.188943\n",
       "0  1030000.0   0.086152 -11.958514  244.470914  243.715676  202.188943"
      ]
     },
     "execution_count": 134,
     "metadata": {},
     "output_type": "execute_result"
    }
   ],
   "source": [
    "X_test[:5]"
   ]
  },
  {
   "cell_type": "code",
   "execution_count": 135,
   "metadata": {},
   "outputs": [
    {
     "data": {
      "text/plain": [
       "array([243.08473969, 244.0658145 , 243.12858763, 243.76927625,\n",
       "       243.8563336 ])"
      ]
     },
     "execution_count": 135,
     "metadata": {},
     "output_type": "execute_result"
    }
   ],
   "source": [
    "regr.predict(X_test[:5])"
   ]
  },
  {
   "cell_type": "code",
   "execution_count": 136,
   "metadata": {},
   "outputs": [
    {
     "data": {
      "text/plain": [
       "0.6073098655983802"
      ]
     },
     "execution_count": 136,
     "metadata": {},
     "output_type": "execute_result"
    }
   ],
   "source": [
    "regr.score(X_test, y_test)"
   ]
  },
  {
   "cell_type": "code",
   "execution_count": 137,
   "metadata": {},
   "outputs": [],
   "source": [
    "prediction = regr.predict(X_test)"
   ]
  },
  {
   "cell_type": "code",
   "execution_count": 138,
   "metadata": {},
   "outputs": [
    {
     "name": "stdout",
     "output_type": "stream",
     "text": [
      "Mean Absolute Error: 0.52 Kelvin\n",
      "Mean Square Error: 0.36117510682413545\n"
     ]
    }
   ],
   "source": [
    "errors = abs(prediction - y_test)\n",
    "print('Mean Absolute Error:', round(np.mean(errors), 2), 'Kelvin')\n",
    "print('Mean Square Error:', mean_squared_error(prediction, y_test))"
   ]
  },
  {
   "cell_type": "code",
   "execution_count": 139,
   "metadata": {},
   "outputs": [
    {
     "data": {
      "text/plain": [
       "0.5976042935047217"
      ]
     },
     "execution_count": 139,
     "metadata": {},
     "output_type": "execute_result"
    }
   ],
   "source": [
    "regr.score(X_train,y_train)"
   ]
  },
  {
   "cell_type": "markdown",
   "metadata": {},
   "source": [
    "### Previous MSE was 23.96 at 1000 points sampled. Going from 1000 to 10000 points acheived better MSE (23.96 -> 0.36), MAE (3.02 Kelvins -> 0.52 Kelvins) and R^2 of both the test (-0.42 -> 0.61) and train (-0.32 ->) data.\n",
    "\n",
    "### Since the R^2 of the train and test data are similar, we know we are not overfitting."
   ]
  },
  {
   "cell_type": "code",
   "execution_count": null,
   "metadata": {},
   "outputs": [],
   "source": []
  },
  {
   "cell_type": "code",
   "execution_count": null,
   "metadata": {},
   "outputs": [],
   "source": []
  }
 ],
 "metadata": {
  "kernelspec": {
   "display_name": "Python 3",
   "language": "python",
   "name": "python3"
  },
  "language_info": {
   "codemirror_mode": {
    "name": "ipython",
    "version": 3
   },
   "file_extension": ".py",
   "mimetype": "text/x-python",
   "name": "python",
   "nbconvert_exporter": "python",
   "pygments_lexer": "ipython3",
   "version": "3.6.12"
  }
 },
 "nbformat": 4,
 "nbformat_minor": 4
}
