{
 "cells": [
  {
   "cell_type": "code",
   "execution_count": 2,
   "metadata": {},
   "outputs": [
    {
     "name": "stderr",
     "output_type": "stream",
     "text": [
      "/scratch/adomakor412/conda/envs/MyEnv/lib/python3.6/site-packages/dask/config.py:131: YAMLLoadWarning: calling yaml.load() without Loader=... is deprecated, as the default Loader is unsafe. Please read https://msg.pyyaml.org/load for full details.\n",
      "  data = yaml.load(f.read()) or {}\n"
     ]
    }
   ],
   "source": [
    "import csv\n",
    "import pandas as pd\n",
    "import numpy as np\n",
    "import matplotlib.pyplot as plt\n",
    "import os\n",
    "from os import path as op\n",
    "import itertools\n",
    "import re\n",
    "import xarray as xr\n",
    "from sklearn.model_selection import train_test_split\n",
    "import numpy.random as nr\n",
    "\n",
    "%matplotlib inline"
   ]
  },
  {
   "cell_type": "code",
   "execution_count": 3,
   "metadata": {},
   "outputs": [],
   "source": [
    "nr.seed = 42"
   ]
  },
  {
   "cell_type": "code",
   "execution_count": 4,
   "metadata": {},
   "outputs": [],
   "source": [
    "inputPath = '/scratch/adomakor412/all_npy3'\n",
    "PATH = os.path.expanduser(inputPath)\n",
    "ncPath = os.path.expanduser('/scratch/adomakor412/april_data_2019')"
   ]
  },
  {
   "cell_type": "code",
   "execution_count": 5,
   "metadata": {},
   "outputs": [],
   "source": [
    "columns = [\n",
    "    \"time\",\n",
    "    \"longitude\",\n",
    "    \"latitude\",\n",
    "    #\"band\",#Necessary?\n",
    "    \"G17_Temp\",\n",
    "    \"G17_mean\",\n",
    "    \"G17_std\",#mean and std outside inner for loop for comp. eff.\n",
    "    \"target_G16_Temp\"\n",
    "]\n",
    "\n",
    "df = pd.DataFrame({},columns = columns)"
   ]
  },
  {
   "cell_type": "code",
   "execution_count": 6,
   "metadata": {},
   "outputs": [],
   "source": [
    "def longitude(lonMin, lonMax, col, colSize):\n",
    "    lon = (col/colSize)* (lonMax - lonMin)\n",
    "    return lon\n",
    "\n",
    "def latitude(latMin, latMax, row, rowSize):\n",
    "    lat = (row/rowSize)* (latMax - latMin)\n",
    "    return lat\n",
    "\n",
    "def Rad2BT(rad, planck_fk1, planck_fk2, planck_bc1, planck_bc2):\n",
    "    \"\"\"Radiances to Brightness Temprature (using black body equation)\"\"\"\n",
    "    invRad = np.array(rad)**(-1)\n",
    "    arg = (invRad*planck_fk1) + 1.0\n",
    "    T = (- planck_bc1+(planck_fk2 * (np.log(arg)**(-1))) )*(1/planck_bc2) \n",
    "    return T"
   ]
  },
  {
   "cell_type": "code",
   "execution_count": 7,
   "metadata": {},
   "outputs": [],
   "source": [
    "import logging\n",
    "logger = logging.getLogger()"
   ]
  },
  {
   "cell_type": "code",
   "execution_count": 8,
   "metadata": {},
   "outputs": [
    {
     "name": "stdout",
     "output_type": "stream",
     "text": [
      "OR_ABI-L1b-RadF-M6C08_G17_s20191030000339_e20191030009405_c20191030009441.nc\n"
     ]
    }
   ],
   "source": [
    "extent_pc = [-109.59326, -102.40674, 8.94659, -8.94656]\n",
    "\n",
    "with open('logML', 'a') as log:   \n",
    "    for (bb,dd) in list(itertools.product([8],[5])):#Let's start with one day\n",
    "        DD = str(98+dd).zfill(3)\n",
    "        lookup = f'M6C08_G17_s2019{DD}0000'\n",
    "        ncFiles = [f for f in os.listdir(ncPath) if re.search(lookup,f)]\n",
    "        #ncFiles = mySort(ncFiles)\n",
    "        npFiles = [f for f in os.listdir( PATH ) if re.search(lookup,f)]\n",
    "        #ncFiles = mySort(ncFiles)\n",
    "\n",
    "        for ncf, npf in zip(ncFiles,npFiles):\n",
    "            try:\n",
    "                imageBox = np.load(op.join( PATH,npf))\n",
    "                myFile = xr.open_dataset(op.join(ncPath,ncf))\n",
    "                planck_fk1 = float(myFile['planck_fk1'].data)\n",
    "                planck_fk2 = float(myFile['planck_fk2'].data) \n",
    "                planck_bc1 = float(myFile['planck_bc1'].data)                       \n",
    "                planck_bc2 = float(myFile['planck_bc2'].data)\n",
    "\n",
    "                time = ncf[31:38]\n",
    "                G17_mean = Rad2BT(imageBox.mean(), planck_fk1, planck_fk2, planck_bc1, planck_bc2)\n",
    "                G17_std = Rad2BT(imageBox.std(), planck_fk1, planck_fk2, planck_bc1, planck_bc2)\n",
    "\n",
    "                hh = ncf[34:36]\n",
    "                mm = ncf[36:38]\n",
    "                \n",
    "                print(ncf)\n",
    "                print(str(ncf), file=log)\n",
    "                logger.info(str(ncf))\n",
    "\n",
    "                G16_npy = np.load( op.join(PATH, npf.replace('G16','G17',1)) )\n",
    "                G16_ncf = xr.open_dataset(op.join( ncPath, ncf.replace('G16','G17',1) ))\n",
    "                G16_fk1 = float(G16_ncf['planck_fk1'].data)\n",
    "                G16_fk2 = float(G16_ncf['planck_fk2'].data) \n",
    "                G16_bc1 = float(G16_ncf['planck_bc1'].data)                       \n",
    "                G16_bc2 = float(G16_ncf['planck_bc2'].data)\n",
    "\n",
    "                target_G16_Temp = Rad2BT(G16_npy, G16_fk1, G16_fk2, G16_bc1, G16_bc2)\n",
    "                x,y = imageBox.shape[0],imageBox.shape[1]\n",
    "                for i,j in itertools.product(range(x),range(y)):\n",
    "                    lon = longitude( extent_pc[0], extent_pc[1], i, x )\n",
    "                    lat = latitude( extent_pc[2], extent_pc[3], j, y)\n",
    "\n",
    "                    G17_Temp = Rad2BT(imageBox[i,j], planck_fk1, planck_fk2, planck_bc1, planck_bc2)#unfiltered\n",
    "                    target_G16_Temp = Rad2BT( G16_npy[i,j], G16_fk1, G16_fk2, G16_bc1, G16_bc2 )\n",
    "                    \n",
    "                    row = [time, lon, lat, G17_Temp, G17_mean, G17_std, target_G16_Temp]\n",
    "\n",
    "                    df = df.append(pd.DataFrame([row],columns=columns),ignore_index=True)\n",
    "                    \n",
    "            except ValueError as e:\n",
    "                logger.exception(e)\n",
    "                print(e)\n",
    "                print(e, file=log)\n",
    "                continue \n",
    "    \n",
    "# df = pd.read_csv(\"http://archive.ics.uci.edu/ml/machine-learning-databases/adult/adult.data\", names=columns)\n",
    "# for column in df.columns:\n",
    "#     if df[column].dtype == \"object\":\n",
    "#         df[column] = df[column].str.strip()\n",
    "# df = df.dropna()"
   ]
  },
  {
   "cell_type": "code",
   "execution_count": 1,
   "metadata": {},
   "outputs": [],
   "source": [
    "from sklearn.neural_network import MLPRegressor\n",
    "#from sklearn.datasets import make_regression\n",
    "from sklearn.model_selection import train_test_split\n",
    "from sklearn.metrics import mean_squared_error"
   ]
  },
  {
   "cell_type": "code",
   "execution_count": 10,
   "metadata": {},
   "outputs": [
    {
     "name": "stdout",
     "output_type": "stream",
     "text": [
      "401401\n",
      "      time  longitude  latitude    G17_Temp    G17_mean     G17_std  \\\n",
      "0  1030000        0.0 -0.000000  242.868317  243.715676  202.188943   \n",
      "1  1030000        0.0 -0.044621  242.919616  243.715676  202.188943   \n",
      "2  1030000        0.0 -0.089243  242.919616  243.715676  202.188943   \n",
      "3  1030000        0.0 -0.133864  242.919616  243.715676  202.188943   \n",
      "4  1030000        0.0 -0.178485  242.919616  243.715676  202.188943   \n",
      "\n",
      "   target_G16_Temp  \n",
      "0       242.868317  \n",
      "1       242.919616  \n",
      "2       242.919616  \n",
      "3       242.919616  \n",
      "4       242.919616  \n"
     ]
    }
   ],
   "source": [
    "print(len(df))\n",
    "print(df.head())"
   ]
  },
  {
   "cell_type": "code",
   "execution_count": 20,
   "metadata": {},
   "outputs": [],
   "source": [
    "dfSample = df.dropna().sample(n=1000)\n",
    "X = dfSample.drop([\"target_G16_Temp\"],axis=1).astype('float')#try as float\n",
    "y = dfSample.drop(columns[:-1],axis=1).astype('float')"
   ]
  },
  {
   "cell_type": "code",
   "execution_count": 21,
   "metadata": {},
   "outputs": [
    {
     "data": {
      "text/html": [
       "<div>\n",
       "<style scoped>\n",
       "    .dataframe tbody tr th:only-of-type {\n",
       "        vertical-align: middle;\n",
       "    }\n",
       "\n",
       "    .dataframe tbody tr th {\n",
       "        vertical-align: top;\n",
       "    }\n",
       "\n",
       "    .dataframe thead th {\n",
       "        text-align: right;\n",
       "    }\n",
       "</style>\n",
       "<table border=\"1\" class=\"dataframe\">\n",
       "  <thead>\n",
       "    <tr style=\"text-align: right;\">\n",
       "      <th></th>\n",
       "      <th>time</th>\n",
       "      <th>longitude</th>\n",
       "      <th>latitude</th>\n",
       "      <th>G17_Temp</th>\n",
       "      <th>G17_mean</th>\n",
       "      <th>G17_std</th>\n",
       "    </tr>\n",
       "  </thead>\n",
       "  <tbody>\n",
       "    <tr>\n",
       "      <th>109589</th>\n",
       "      <td>1030000.0</td>\n",
       "      <td>1.959960</td>\n",
       "      <td>-5.176073</td>\n",
       "      <td>242.088872</td>\n",
       "      <td>243.715676</td>\n",
       "      <td>202.188943</td>\n",
       "    </tr>\n",
       "    <tr>\n",
       "      <th>285933</th>\n",
       "      <td>1030000.0</td>\n",
       "      <td>5.118870</td>\n",
       "      <td>-0.892426</td>\n",
       "      <td>243.327095</td>\n",
       "      <td>243.715676</td>\n",
       "      <td>202.188943</td>\n",
       "    </tr>\n",
       "    <tr>\n",
       "      <th>276537</th>\n",
       "      <td>1030000.0</td>\n",
       "      <td>4.946566</td>\n",
       "      <td>-11.066088</td>\n",
       "      <td>243.225705</td>\n",
       "      <td>243.715676</td>\n",
       "      <td>202.188943</td>\n",
       "    </tr>\n",
       "    <tr>\n",
       "      <th>136657</th>\n",
       "      <td>1030000.0</td>\n",
       "      <td>2.440976</td>\n",
       "      <td>-14.144959</td>\n",
       "      <td>244.519748</td>\n",
       "      <td>243.715676</td>\n",
       "      <td>202.188943</td>\n",
       "    </tr>\n",
       "    <tr>\n",
       "      <th>356858</th>\n",
       "      <td>1030000.0</td>\n",
       "      <td>6.382434</td>\n",
       "      <td>-16.465268</td>\n",
       "      <td>240.136709</td>\n",
       "      <td>243.715676</td>\n",
       "      <td>202.188943</td>\n",
       "    </tr>\n",
       "  </tbody>\n",
       "</table>\n",
       "</div>"
      ],
      "text/plain": [
       "             time  longitude   latitude    G17_Temp    G17_mean     G17_std\n",
       "109589  1030000.0   1.959960  -5.176073  242.088872  243.715676  202.188943\n",
       "285933  1030000.0   5.118870  -0.892426  243.327095  243.715676  202.188943\n",
       "276537  1030000.0   4.946566 -11.066088  243.225705  243.715676  202.188943\n",
       "136657  1030000.0   2.440976 -14.144959  244.519748  243.715676  202.188943\n",
       "356858  1030000.0   6.382434 -16.465268  240.136709  243.715676  202.188943"
      ]
     },
     "execution_count": 21,
     "metadata": {},
     "output_type": "execute_result"
    }
   ],
   "source": [
    "X.head()"
   ]
  },
  {
   "cell_type": "code",
   "execution_count": 22,
   "metadata": {},
   "outputs": [
    {
     "data": {
      "text/html": [
       "<div>\n",
       "<style scoped>\n",
       "    .dataframe tbody tr th:only-of-type {\n",
       "        vertical-align: middle;\n",
       "    }\n",
       "\n",
       "    .dataframe tbody tr th {\n",
       "        vertical-align: top;\n",
       "    }\n",
       "\n",
       "    .dataframe thead th {\n",
       "        text-align: right;\n",
       "    }\n",
       "</style>\n",
       "<table border=\"1\" class=\"dataframe\">\n",
       "  <thead>\n",
       "    <tr style=\"text-align: right;\">\n",
       "      <th></th>\n",
       "      <th>target_G16_Temp</th>\n",
       "    </tr>\n",
       "  </thead>\n",
       "  <tbody>\n",
       "    <tr>\n",
       "      <th>109589</th>\n",
       "      <td>242.088872</td>\n",
       "    </tr>\n",
       "    <tr>\n",
       "      <th>285933</th>\n",
       "      <td>243.327095</td>\n",
       "    </tr>\n",
       "    <tr>\n",
       "      <th>276537</th>\n",
       "      <td>243.225705</td>\n",
       "    </tr>\n",
       "    <tr>\n",
       "      <th>136657</th>\n",
       "      <td>244.519748</td>\n",
       "    </tr>\n",
       "    <tr>\n",
       "      <th>356858</th>\n",
       "      <td>240.136709</td>\n",
       "    </tr>\n",
       "  </tbody>\n",
       "</table>\n",
       "</div>"
      ],
      "text/plain": [
       "        target_G16_Temp\n",
       "109589       242.088872\n",
       "285933       243.327095\n",
       "276537       243.225705\n",
       "136657       244.519748\n",
       "356858       240.136709"
      ]
     },
     "execution_count": 22,
     "metadata": {},
     "output_type": "execute_result"
    }
   ],
   "source": [
    "y.head()"
   ]
  },
  {
   "cell_type": "code",
   "execution_count": 28,
   "metadata": {},
   "outputs": [],
   "source": [
    "from sklearn.metrics import mean_squared_error\n",
    "X_train, X_test, y_train, y_test = train_test_split(X, np.ravel(y),random_state=1,test_size=0.1)\n",
    "regr = MLPRegressor(random_state=1, max_iter=500).fit(X_train, y_train)"
   ]
  },
  {
   "cell_type": "code",
   "execution_count": 29,
   "metadata": {},
   "outputs": [
    {
     "data": {
      "text/html": [
       "<div>\n",
       "<style scoped>\n",
       "    .dataframe tbody tr th:only-of-type {\n",
       "        vertical-align: middle;\n",
       "    }\n",
       "\n",
       "    .dataframe tbody tr th {\n",
       "        vertical-align: top;\n",
       "    }\n",
       "\n",
       "    .dataframe thead th {\n",
       "        text-align: right;\n",
       "    }\n",
       "</style>\n",
       "<table border=\"1\" class=\"dataframe\">\n",
       "  <thead>\n",
       "    <tr style=\"text-align: right;\">\n",
       "      <th></th>\n",
       "      <th>time</th>\n",
       "      <th>longitude</th>\n",
       "      <th>latitude</th>\n",
       "      <th>G17_Temp</th>\n",
       "      <th>G17_mean</th>\n",
       "      <th>G17_std</th>\n",
       "    </tr>\n",
       "  </thead>\n",
       "  <tbody>\n",
       "    <tr>\n",
       "      <th>267830</th>\n",
       "      <td>1030000.0</td>\n",
       "      <td>4.788620</td>\n",
       "      <td>-16.197540</td>\n",
       "      <td>245.243669</td>\n",
       "      <td>243.715676</td>\n",
       "      <td>202.188943</td>\n",
       "    </tr>\n",
       "    <tr>\n",
       "      <th>32946</th>\n",
       "      <td>1030000.0</td>\n",
       "      <td>0.588706</td>\n",
       "      <td>-2.855765</td>\n",
       "      <td>242.970832</td>\n",
       "      <td>243.715676</td>\n",
       "      <td>202.188943</td>\n",
       "    </tr>\n",
       "    <tr>\n",
       "      <th>205193</th>\n",
       "      <td>1030000.0</td>\n",
       "      <td>3.668643</td>\n",
       "      <td>-12.583213</td>\n",
       "      <td>247.009727</td>\n",
       "      <td>243.715676</td>\n",
       "      <td>202.188943</td>\n",
       "    </tr>\n",
       "    <tr>\n",
       "      <th>325918</th>\n",
       "      <td>1030000.0</td>\n",
       "      <td>5.829625</td>\n",
       "      <td>-13.654124</td>\n",
       "      <td>240.855590</td>\n",
       "      <td>243.715676</td>\n",
       "      <td>202.188943</td>\n",
       "    </tr>\n",
       "    <tr>\n",
       "      <th>273331</th>\n",
       "      <td>1030000.0</td>\n",
       "      <td>4.889131</td>\n",
       "      <td>-11.155330</td>\n",
       "      <td>244.176372</td>\n",
       "      <td>243.715676</td>\n",
       "      <td>202.188943</td>\n",
       "    </tr>\n",
       "  </tbody>\n",
       "</table>\n",
       "</div>"
      ],
      "text/plain": [
       "             time  longitude   latitude    G17_Temp    G17_mean     G17_std\n",
       "267830  1030000.0   4.788620 -16.197540  245.243669  243.715676  202.188943\n",
       "32946   1030000.0   0.588706  -2.855765  242.970832  243.715676  202.188943\n",
       "205193  1030000.0   3.668643 -12.583213  247.009727  243.715676  202.188943\n",
       "325918  1030000.0   5.829625 -13.654124  240.855590  243.715676  202.188943\n",
       "273331  1030000.0   4.889131 -11.155330  244.176372  243.715676  202.188943"
      ]
     },
     "execution_count": 29,
     "metadata": {},
     "output_type": "execute_result"
    }
   ],
   "source": [
    "X_test[:5]"
   ]
  },
  {
   "cell_type": "code",
   "execution_count": 30,
   "metadata": {},
   "outputs": [
    {
     "data": {
      "text/plain": [
       "array([243.75886052, 243.07278366, 243.16213075, 244.16058273,\n",
       "       243.40035261])"
      ]
     },
     "execution_count": 30,
     "metadata": {},
     "output_type": "execute_result"
    }
   ],
   "source": [
    "regr.predict(X_test[:5])"
   ]
  },
  {
   "cell_type": "code",
   "execution_count": 31,
   "metadata": {},
   "outputs": [
    {
     "data": {
      "text/plain": [
       "-0.4281456898253139"
      ]
     },
     "execution_count": 31,
     "metadata": {},
     "output_type": "execute_result"
    }
   ],
   "source": [
    "regr.score(X_test, y_test)"
   ]
  },
  {
   "cell_type": "code",
   "execution_count": 34,
   "metadata": {},
   "outputs": [],
   "source": [
    "prediction = regr.predict(X_test)"
   ]
  },
  {
   "cell_type": "code",
   "execution_count": 35,
   "metadata": {},
   "outputs": [
    {
     "name": "stdout",
     "output_type": "stream",
     "text": [
      "Mean Absolute Error: 3.02 Kelvin\n",
      "Mean Square Error: 23.9570997752824\n"
     ]
    }
   ],
   "source": [
    "errors = abs(prediction - y_test)\n",
    "print('Mean Absolute Error:', round(np.mean(errors), 2), 'Kelvin')\n",
    "print('Mean Square Error:', mean_squared_error(prediction, y_test))"
   ]
  },
  {
   "cell_type": "code",
   "execution_count": null,
   "metadata": {},
   "outputs": [],
   "source": []
  }
 ],
 "metadata": {
  "kernelspec": {
   "display_name": "Python 3",
   "language": "python",
   "name": "python3"
  },
  "language_info": {
   "codemirror_mode": {
    "name": "ipython",
    "version": 3
   },
   "file_extension": ".py",
   "mimetype": "text/x-python",
   "name": "python",
   "nbconvert_exporter": "python",
   "pygments_lexer": "ipython3",
   "version": "3.6.12"
  }
 },
 "nbformat": 4,
 "nbformat_minor": 4
}
